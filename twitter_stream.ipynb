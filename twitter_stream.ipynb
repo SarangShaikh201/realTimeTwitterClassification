{
 "cells": [
  {
   "cell_type": "code",
   "execution_count": null,
   "metadata": {},
   "outputs": [],
   "source": [
    "from sklearn import model_selection\n",
    "from tweepy import Stream\n",
    "from tweepy import OAuthHandler\n",
    "import json\n",
    "from tweepy.streaming import StreamListener\n",
    "import nltk\n",
    "from nltk.corpus import stopwords\n",
    "import re\n",
    "import pickle\n",
    "from sklearn.externals import joblib\n",
    "\n",
    "\n",
    "#nltk.download('stopwords')\n",
    "\n",
    "ckey='Hk6d52Oi7VtV2BdXkqfhHiRPz'\n",
    "csecret='zqxOsWZcdow4kpQAEwE28PiIJIsBOqarMLQ1idg2AVoDGJxnKz'\n",
    "atoken='2914530456-hOKF00XjFw72cfovacKrq8vkmWMjjFDt12wCNxo'\n",
    "asecret='CivraKC9GwvxjFiGBa4KCfaA3ISPSiIqGAmtYdxTkvBjO'\n",
    "\n",
    "\n",
    "# load the model from disk\n",
    "loaded_model = joblib.load('hybrid_model.sav')\n",
    "\n",
    "REPLACE_BY_SPACE_RE = re.compile('[/(){}\\\\[\\\\]\\\\|@,;]')\n",
    "BAD_SYMBOLS_RE = re.compile('[^0-9a-z #+_]')\n",
    "STOPWORDS = set(stopwords.words('english'))\n",
    "        \n",
    "\n",
    "def clean_text(text):\n",
    "    if type(text) is str:\n",
    "        text = text.lower()\n",
    "        text = re.sub(\"[^a-zA-Z]\", \"/,\",str(text))\n",
    "        text = REPLACE_BY_SPACE_RE.sub(' ', text)\n",
    "        text = BAD_SYMBOLS_RE.sub('', text)\n",
    "        text = ' '.join(word for word in text.split() if word not in STOPWORDS)\n",
    "        return text\n",
    "\n",
    "\n",
    "class listener(StreamListener):\n",
    "    def on_data(self,data):\n",
    "        all_data = json.loads(data)\n",
    "        tweet = all_data[\"text\"]\n",
    "        #print(clean_text(tweet)+\"\\n\\n\")\n",
    "        tweet01 = clean_text(tweet)\n",
    "        result = loaded_model.predict([tweet01])\n",
    "        print(str(tweet01)+\"\\t\\t\"+str(result))\n",
    "        return True\n",
    "    \n",
    "    def on_error(self, status):\n",
    "        print(status)\n",
    "         \n",
    "auth=OAuthHandler(ckey,csecret)\n",
    "auth.set_access_token(atoken,asecret)\n",
    "twitterStream=Stream(auth,listener())\n",
    "twitterStream.filter(track=[\"bitcoin\"])"
   ]
  },
  {
   "cell_type": "code",
   "execution_count": null,
   "metadata": {},
   "outputs": [],
   "source": []
  }
 ],
 "metadata": {
  "kernelspec": {
   "display_name": "Python 3",
   "language": "python",
   "name": "python3"
  },
  "language_info": {
   "codemirror_mode": {
    "name": "ipython",
    "version": 3
   },
   "file_extension": ".py",
   "mimetype": "text/x-python",
   "name": "python",
   "nbconvert_exporter": "python",
   "pygments_lexer": "ipython3",
   "version": "3.6.7"
  }
 },
 "nbformat": 4,
 "nbformat_minor": 2
}
